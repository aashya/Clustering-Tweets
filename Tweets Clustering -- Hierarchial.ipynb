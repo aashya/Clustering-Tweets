{
 "cells": [
  {
   "cell_type": "code",
   "execution_count": 1,
   "metadata": {},
   "outputs": [],
   "source": [
    "import re\n",
    "\n",
    "import numpy as np\n",
    "\n",
    "import pandas as pd\n",
    "\n",
    "import matplotlib.pyplot as plt\n",
    "\n",
    "\n",
    "\n",
    "from scipy.spatial.distance import pdist\n",
    "\n",
    "from scipy.cluster.hierarchy import dendrogram, linkage, fcluster\n",
    "\n",
    "from sklearn.feature_extraction.text import TfidfVectorizer"
   ]
  },
  {
   "cell_type": "code",
   "execution_count": 2,
   "metadata": {},
   "outputs": [],
   "source": [
    "# load stopwords\n",
    "\n",
    "# selected after observing results without stopwords\n",
    "stopwords = [\n",
    "\n",
    "  'the',\n",
    "\n",
    "  'about',\n",
    "\n",
    "  'an',\n",
    "\n",
    "  'and',\n",
    "\n",
    "  'are',\n",
    "\n",
    "  'at',\n",
    "\n",
    "  'be',\n",
    "\n",
    "  'can',\n",
    "\n",
    "  'for',\n",
    "\n",
    "  'from',\n",
    "\n",
    "  'if',\n",
    "\n",
    "  'in',\n",
    "\n",
    "  'is',\n",
    "\n",
    "  'it',\n",
    "\n",
    "  'of',\n",
    "\n",
    "  'on',\n",
    "\n",
    "  'or',\n",
    "\n",
    "  'that',\n",
    "\n",
    "  'this',\n",
    "\n",
    "  'to',\n",
    "\n",
    "  'you',\n",
    "\n",
    "  'your',\n",
    "\n",
    "  'with',\n",
    "\n",
    "]"
   ]
  },
  {
   "cell_type": "code",
   "execution_count": 3,
   "metadata": {},
   "outputs": [],
   "source": [
    "# find urls and twitter usernames within a string\n",
    "\n",
    "url_finder = re.compile(r\"(?:\\@|https?\\://)\\S+\")"
   ]
  },
  {
   "cell_type": "code",
   "execution_count": 4,
   "metadata": {},
   "outputs": [],
   "source": [
    "def filter_tweet(s):\n",
    "\n",
    "  s = s.lower() # downcase\n",
    "\n",
    "  s = url_finder.sub(\"\", s) # remove urls and usernames\n",
    "\n",
    "  return s"
   ]
  },
  {
   "cell_type": "code",
   "execution_count": 5,
   "metadata": {},
   "outputs": [],
   "source": [
    "### load data ###\n",
    "\n",
    "df = pd.read_csv('C:/Users/Aashya.Khanduja/Documents/Aashya/Machine Learning/Unsupervised Learning/tweets.csv')\n",
    "\n",
    "text = df.text.tolist()\n",
    "\n",
    "text = [filter_tweet(s) for s in text]\n",
    "\n"
   ]
  },
  {
   "cell_type": "code",
   "execution_count": 6,
   "metadata": {},
   "outputs": [],
   "source": [
    "# transform the text into a data matrix\n",
    "\n",
    "tfidf = TfidfVectorizer(max_features=100, stop_words=stopwords)\n",
    "\n",
    "X = tfidf.fit_transform(text).todense()"
   ]
  },
  {
   "cell_type": "code",
   "execution_count": 7,
   "metadata": {},
   "outputs": [],
   "source": [
    "# subsample for efficiency\n",
    "\n",
    "# remember: calculating distances is O(N^2)\n",
    "\n",
    "N = X.shape[0]\n",
    "\n",
    "idx = np.random.choice(N, size=2000, replace=False)\n",
    "\n",
    "x = X[idx]\n",
    "\n",
    "#assigning labels as in the handle column of the original data frame \n",
    "labels = df.handle[idx].tolist()\n",
    "\n"
   ]
  },
  {
   "cell_type": "code",
   "execution_count": 8,
   "metadata": {},
   "outputs": [
    {
     "name": "stdout",
     "output_type": "stream",
     "text": [
      "proportion @realDonaldTrump: 0.493\n",
      "proportion @HillaryClinton: 0.507\n"
     ]
    }
   ],
   "source": [
    "# proportions of each label\n",
    "\n",
    "# so we can be confident that each is represented equally\n",
    "\n",
    "pTrump = sum(1.0 if e == 'realDonaldTrump' else 0.0 for e in labels) / len(labels)\n",
    "\n",
    "print(\"proportion @realDonaldTrump: %.3f\" % pTrump)\n",
    "\n",
    "print(\"proportion @HillaryClinton: %.3f\" % (1 - pTrump))\n",
    "\n"
   ]
  },
  {
   "cell_type": "code",
   "execution_count": 9,
   "metadata": {},
   "outputs": [],
   "source": [
    "# transform the data matrix into pairwise distances list\n",
    "\n",
    "dist_array = pdist(x)\n",
    "\n"
   ]
  },
  {
   "cell_type": "code",
   "execution_count": 10,
   "metadata": {},
   "outputs": [
    {
     "data": {
      "image/png": "[encoded data removed]",
      "text/plain": [
       "<Figure size 432x288 with 1 Axes>"
      ]
     },
     "metadata": {
      "needs_background": "light"
     },
     "output_type": "display_data"
    }
   ],
   "source": [
    "# calculate hierarchy\n",
    "\n",
    "Z = linkage(dist_array, 'ward')\n",
    "\n",
    "plt.title(\"Ward\")\n",
    "\n",
    "dendrogram(Z, labels=labels)\n",
    "\n",
    "plt.show()\n",
    "\n",
    "#single will fail and complete will not produce good results"
   ]
  },
  {
   "cell_type": "code",
   "execution_count": 11,
   "metadata": {},
   "outputs": [],
   "source": [
    "# convert labels to (1, 2), not (0, 1)\n",
    "\n",
    "# since that's what's returned by fcluster\n",
    "\n",
    "Y = np.array([1 if e == 'realDonaldTrump' else 2 for e in labels])\n",
    "\n",
    "\n",
    "\n"
   ]
  },
  {
   "cell_type": "code",
   "execution_count": 12,
   "metadata": {},
   "outputs": [
    {
     "name": "stdout",
     "output_type": "stream",
     "text": [
      "values in C: {1, 2}\n"
     ]
    }
   ],
   "source": [
    "# get cluster assignments\n",
    "\n",
    "# threshold 9 was chosen empirically to yield 2 clusters\n",
    "\n",
    "C = fcluster(Z, 9, criterion='distance') # returns 1, 2, ..., K\n",
    "\n",
    "categories = set(C)\n",
    "\n",
    "# sanity check: should be {1, 2}\n",
    "\n",
    "print(\"values in C:\", categories)\n",
    "\n"
   ]
  },
  {
   "cell_type": "code",
   "execution_count": 13,
   "metadata": {},
   "outputs": [
    {
     "name": "stdout",
     "output_type": "stream",
     "text": [
      "purity: 0.5605\n"
     ]
    }
   ],
   "source": [
    "## calculate the purity of our clusters ###\n",
    "\n",
    "def purity(true_labels, cluster_assignments, categories):\n",
    "\n",
    "  # maximum purity is 1, higher is better\n",
    "\n",
    "  N = len(true_labels)\n",
    "\n",
    "\n",
    "\n",
    "  total = 0.0\n",
    "\n",
    "  for k in categories:\n",
    "\n",
    "    max_intersection = 0\n",
    "\n",
    "    for j in categories:\n",
    "\n",
    "      intersection = ((cluster_assignments == k) & (true_labels == j)).sum()\n",
    "\n",
    "      if intersection > max_intersection:\n",
    "\n",
    "        max_intersection = intersection\n",
    "\n",
    "    total += max_intersection\n",
    "\n",
    "  return total / N\n",
    "\n",
    "\n",
    "\n",
    "print(\"purity:\", purity(Y, C, categories))"
   ]
  },
  {
   "cell_type": "code",
   "execution_count": 14,
   "metadata": {},
   "outputs": [],
   "source": [
    "# seeing which one the smaller cluster belongs to; finding donald trump and hillary tweets individually\n",
    "\n",
    "if (C == 1).sum() < (C == 2).sum():\n",
    "\n",
    "  d = 1\n",
    "\n",
    "  h = 2\n",
    "\n",
    "else:\n",
    "\n",
    "  d = 2\n",
    "\n",
    "  h = 1\n",
    "\n",
    "\n"
   ]
  },
  {
   "cell_type": "code",
   "execution_count": 15,
   "metadata": {},
   "outputs": [
    {
     "name": "stdout",
     "output_type": "stream",
     "text": [
      "purity of @realDonaldTrump cluster: 0.9734513274336283\n"
     ]
    }
   ],
   "source": [
    "\n",
    "actually_donald = ((C == d) & (Y == 1)).sum()\n",
    "\n",
    "donald_cluster_size = (C == d).sum()\n",
    "\n",
    "print(\"purity of @realDonaldTrump cluster:\", float(actually_donald) / donald_cluster_size)\n",
    "\n",
    "\n",
    "\n"
   ]
  },
  {
   "cell_type": "code",
   "execution_count": 16,
   "metadata": {},
   "outputs": [
    {
     "name": "stdout",
     "output_type": "stream",
     "text": [
      "purity of @HillaryClinton cluster: 0.5357710651828299\n"
     ]
    }
   ],
   "source": [
    "actually_hillary = ((C == h) & (Y == 2)).sum()\n",
    "\n",
    "hillary_cluster_size = (C == h).sum()\n",
    "\n",
    "print(\"purity of @HillaryClinton cluster:\", float(actually_hillary) / hillary_cluster_size)\n",
    "\n"
   ]
  },
  {
   "cell_type": "code",
   "execution_count": 17,
   "metadata": {},
   "outputs": [],
   "source": [
    "# we observed through above that the smaller cluster is donald trump. \n",
    "# we have two clusters c1 and c2 and we see the tweets cluster in the smaller cluster is for donald or hillary \n",
    "# and observe its for hillary"
   ]
  },
  {
   "cell_type": "code",
   "execution_count": 18,
   "metadata": {},
   "outputs": [
    {
     "name": "stderr",
     "output_type": "stream",
     "text": [
      "C:\\Users\\Aashya.Khanduja\\AppData\\Local\\Continuum\\anaconda3\\lib\\site-packages\\sklearn\\ensemble\\forest.py:246: FutureWarning: The default value of n_estimators will change from 10 in version 0.20 to 100 in 0.22.\n",
      "  \"10 in version 0.20 to 100 in 0.22.\", FutureWarning)\n"
     ]
    },
    {
     "name": "stdout",
     "output_type": "stream",
     "text": [
      "classifier score: 0.9456859093730602\n"
     ]
    }
   ],
   "source": [
    "#testing how a classifier would perform on the dataset\n",
    "\n",
    "from sklearn.ensemble import RandomForestClassifier\n",
    "\n",
    "\n",
    "\n",
    "rf = RandomForestClassifier()\n",
    "\n",
    "rf.fit(X, df.handle)\n",
    "\n",
    "print(\"classifier score:\", rf.score(X, df.handle))\n",
    "\n"
   ]
  },
  {
   "cell_type": "code",
   "execution_count": 19,
   "metadata": {},
   "outputs": [],
   "source": [
    "# clssifier comes to 90% while purity of clustering is 50%"
   ]
  },
  {
   "cell_type": "code",
   "execution_count": 20,
   "metadata": {},
   "outputs": [],
   "source": [
    "# finding the words with the highest frequency\n",
    "\n",
    "w2i = tfidf.vocabulary_"
   ]
  },
  {
   "cell_type": "code",
   "execution_count": 21,
   "metadata": {},
   "outputs": [],
   "source": [
    "# calcultaing average vector in donald cluster -- d_avg\n",
    "\n",
    "#tf-idf vectorizer todense() returns a matrix rather than array\n",
    "# matrix always wants to be 2-D, so we convert to array in order to flatten\n",
    "\n",
    "d_avg = np.array(x[C == d].mean(axis=0)).flatten()\n",
    "\n",
    "d_sorted = sorted(w2i.keys(), key=lambda w: -d_avg[w2i[w]])\n",
    "\n"
   ]
  },
  {
   "cell_type": "code",
   "execution_count": 22,
   "metadata": {},
   "outputs": [
    {
     "name": "stdout",
     "output_type": "stream",
     "text": [
      "\n",
      "Top 10 'Donald cluster' words:\n",
      "thank\n",
      "makeamericagreatagain\n",
      "trump2016\n",
      "new\n",
      "will\n",
      "trump\n",
      "america\n",
      "great\n",
      "get\n",
      "out\n"
     ]
    }
   ],
   "source": [
    "print(\"\\nTop 10 'Donald cluster' words:\")\n",
    "\n",
    "print(\"\\n\".join(d_sorted[:10]))\n",
    "\n"
   ]
  },
  {
   "cell_type": "code",
   "execution_count": 23,
   "metadata": {},
   "outputs": [
    {
     "name": "stdout",
     "output_type": "stream",
     "text": [
      "\n",
      "Top 10 'Hillary cluster' words:\n",
      "trump\n",
      "hillary\n",
      "we\n",
      "will\n",
      "our\n",
      "he\n",
      "donald\n",
      "not\n",
      "who\n",
      "great\n"
     ]
    }
   ],
   "source": [
    "#hillary words \n",
    "\n",
    "h_avg = np.array(x[C == h].mean(axis=0)).flatten()\n",
    "\n",
    "h_sorted = sorted(w2i.keys(), key=lambda w: -h_avg[w2i[w]])\n",
    "\n",
    "\n",
    "\n",
    "print(\"\\nTop 10 'Hillary cluster' words:\")\n",
    "\n",
    "print(\"\\n\".join(h_sorted[:10]))\n",
    "\n"
   ]
  },
  {
   "cell_type": "code",
   "execution_count": null,
   "metadata": {},
   "outputs": [],
   "source": []
  }
 ],
 "metadata": {
  "kernelspec": {
   "display_name": "Python 3",
   "language": "python",
   "name": "python3"
  },
  "language_info": {
   "codemirror_mode": {
    "name": "ipython",
    "version": 3
   },
   "file_extension": ".py",
   "mimetype": "text/x-python",
   "name": "python",
   "nbconvert_exporter": "python",
   "pygments_lexer": "ipython3",
   "version": "3.7.3"
  }
 },
 "nbformat": 4,
 "nbformat_minor": 2
}
